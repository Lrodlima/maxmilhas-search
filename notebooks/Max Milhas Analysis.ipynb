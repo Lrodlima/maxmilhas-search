{
 "cells": [
  {
   "cell_type": "markdown",
   "metadata": {},
   "source": [
    "Machine learning project checklist\n",
    "\n",
    "    Define the problem and look at the big picture.\n",
    "    Perform Exploratory Data Analysis (EDA) to gain insights.\n",
    "    Clean and prepare data to better expose latent patterns within it.\n",
    "    Explore many different machine learning models and pick the best ones.\n",
    "    Perform model cross-validations to ensure that the analysis is robust."
   ]
  },
  {
   "cell_type": "markdown",
   "metadata": {},
   "source": [
    "# Contexto"
   ]
  },
  {
   "cell_type": "markdown",
   "metadata": {},
   "source": [
    "A MaxMilhas conecta pessoas que curtem viajar com muito mais economia com aqueles que desejam vender milhas e faturar uma grana extra. Em 2017, transacionou mais de 5 bilhoes de milhas e mais de 500 mil passagens foram emitidas através da plataforma da empresa. O que torna esse número extremamente relevante para a utilizacao de ferramentas voltadas para o contexto de _Big Data_ e técnicas avancadas de Aprendizado de Máquina."
   ]
  },
  {
   "cell_type": "markdown",
   "metadata": {},
   "source": [
    "## 1. Hipóteses e Objetivos"
   ]
  },
  {
   "cell_type": "markdown",
   "metadata": {},
   "source": [
    "A primeira etapa de um processo de ciência de dados, é levantar as perguntas ou hipóteses que serao investigadas, definir objetivos das análises que serao realizadas. Antes mesmo de tomar conhecimento dos dados que estao a nossa disposicao. Levantei 4 hipóteses que serao investigadas, baseadas no meu conhecimento sobre o negócio da MaxMilhas e que acredito que poderiam gerar um valor para o negócio, ou para mim como usuário da plataforma. Avaliei e classifiquei cada uma dessas hipóteses, em relacao a qual diretriz ela está também mais relacionada na minha visao. \n",
    "\n",
    "Ao final, uma dessas hipóteses será escolhida para que possamos criar um modelo de aprendizado de máquina que possa gerar algum retorno ou benefício para a empresa."
   ]
  },
  {
   "cell_type": "markdown",
   "metadata": {},
   "source": [
    "* **CLASSIFICACAO DE VOOS (Internacionais ou Domésticos)** - Com essa classificacao automática, poderíamos melhorar o fluxo da arquitetura de servicos de busca da MaxMilhas. Quem sabe, definindo diferentes instâncias do servico de buscas, uma responsável por cada classe buscada. Podendo, gerar uma economia de recursos ou melhorando o tempo de pesquisa dos voos.\n",
    "\n",
    "    DIRETRIZ: SUPORTE A BUSCA\n",
    "\n",
    "\n",
    "* **PREVISAO DE CANCELAMENTO DE VÔOS** - Baseado no histórico de voos reservados pela plataforma, poderíamos construir um algoritmo que pudesse prever, se determinado vôo tem chances de ser cancelado ou nao. Com isso, podemos sugerir aos usuários da plataforma, a reserva de um hotel ou hostel, por exemplo. Aumentando dessa forma o ticket médio gasto na plataforma, por usuário. Esse módulo, também poderia ser utilizado pelas companhias aéreas que poderiam, dessa forma antecipar problemas dessa natureza, e tomar medidas preventivas tanto em termos de _crew recovery_ ou _aircraft recovery_ como visando o passageiro também.\n",
    "        \n",
    "     DIRETRIZ: CONSTRUCAO DE MARCA E RELACIONAMENTO COM COMPANHIAS AEREAS\n",
    "\n",
    "\n",
    "* **PREVISAO DE PRECOS DE VÔOS** - Baseado nos precos retornados pelas buscas em passagem aérea poderíamos construir uma primeira versao **(MVP)** de um modelo de regressao para previsao de precos de passagens, que nos fizesse recomendar ou aumentar o fluxo de usuários buscando passagens em épocas do ano, em que a quantidade de buscas na plataforma da MaxMilhas nao sao tao frequentes, aumentando dessa forma a taxa de utilizacao dos sistema.\n",
    "\n",
    "     DIRETRIZ: SUPORTE E IMPULSAO DE BUSCA, CONSTRUCAO DE MARCA\n",
    "\n",
    "\n",
    "* **SISTEMA DE RECOMENDACAO DE VOÔS NOTURNOS PARA VIAGENS INTERNACIONAIS COM CRIANCAS** - Nem sempre, o critério preco é mandatório para a experiência de viagem de uma família. Muitas vezes, o conforto e a qualidade da viagem é determinante na compra, podemos dessa forma identificar buscas que tem essa caracteristica no _dataset_ e realizar recomendacoes de voos, dentro da expectativa de datas, mas que seja mais agradável, principalmente para os pais e as criancas. Isso pode gerar também, a sugestao de outros produtos, como refeicao kids por parte das companhias aéreas ou kits como gibis, livros e etc- saindo do convencional entreterimento eletrônico de bordo. Vamos investigar se essa demanda se apresenta nesse dataset.\n",
    "\n",
    "     DIRETRIZ: CONSTRUCAO DE MARCA E RELACIONAMENTO COM COMPANHIAS AEREAS"
   ]
  },
  {
   "cell_type": "markdown",
   "metadata": {},
   "source": [
    "## 2. Leitura dos Dados e Análise Exploratória "
   ]
  },
  {
   "cell_type": "markdown",
   "metadata": {},
   "source": [
    "Os dados foram recebidos no formato .csv - e sim um _header_ apenas com o schema dos dados em um arquivo de imagem. Ao todo, temos **2.9 GB de dados**, e me parece ser mais razoável utilizar uma ferramenta que nos permita lidar com essa quantidade de dados ou maior ainda. Para carregar os dados, vamos utilizar o Apache Spark, em sua versao de API para o Python, chamada pySpark. \n",
    "\n",
    "Uma das limitacoes para que estao também relacionadas ao contexto do teste é que temos disponíveis apenas os dados entre **janeiro a marco de 2017**. Certamente isso prejudica nossa intencao em construir um modelo de regressao de precos de passagens já que nao temos dados suficiente para avaliar e confirmar tendências ou sazonalidades. "
   ]
  },
  {
   "cell_type": "code",
   "execution_count": 18,
   "metadata": {
    "collapsed": true
   },
   "outputs": [],
   "source": [
    "from pyspark import SparkContext\n",
    "from pyspark.sql.types import *                                   \n",
    "from pyspark.sql import SparkSession                                     \n",
    "import argparse\n",
    "\n",
    "# Create spark Session                                                   \n",
    "spark = SparkSession \\\n",
    "    .builder \\\n",
    "    .appName('MaxMilhas <> EDA') \\\n",
    "    .getOrCreate()  "
   ]
  },
  {
   "cell_type": "code",
   "execution_count": 21,
   "metadata": {},
   "outputs": [],
   "source": [
    "input_path = '/home/leonardo/max-milhas/data/in/'\n",
    "\n",
    "max_df = spark.read \\\n",
    "    .option(\"delimiter\", \";\") \\\n",
    "    .option(\"encoding\", \"ISO-8859-1\") \\\n",
    "    .csv(input_path+\"in.csv\", \n",
    "         header=False, schema=schema)                                              \n",
    "\n",
    "#Columns that could be dropped                                       \n",
    "'''\n",
    "columns_to_drop = [\"idusers\", \"idsearch\", \"airport_dep_name\", \"aiport_arr_name\", \"airport_code_arr\", \n",
    "\"airport_code_dep\", \"direction\"]\n",
    "'''\n",
    "#max_df = max_df.drop(*columns_to_drop) "
   ]
  },
  {
   "cell_type": "code",
   "execution_count": 22,
   "metadata": {},
   "outputs": [
    {
     "data": {
      "text/plain": [
       "['id',\n",
       " 'idusers',\n",
       " 'idsearch',\n",
       " 'airline',\n",
       " 'tipo_de_voo',\n",
       " 'origin',\n",
       " 'dest',\n",
       " 'dep_date',\n",
       " 'arr_date',\n",
       " 'days_travelled',\n",
       " 'adults',\n",
       " 'childs',\n",
       " 'infants',\n",
       " 'dep_country',\n",
       " 'arr_country',\n",
       " 'international_flight',\n",
       " 'direction',\n",
       " 'class',\n",
       " 'search_date',\n",
       " 'wanted_dep_date',\n",
       " 'wanted_arr_date',\n",
       " 'search_received_date',\n",
       " 'seconds_search',\n",
       " 'seconds_to_results',\n",
       " 'quant_flights',\n",
       " 'quant_flights_received',\n",
       " 'quant_best_price_airlines',\n",
       " 'quant_best_price_mm',\n",
       " 'cheapest_mm_price_dep',\n",
       " 'cheapest_mm_price_arr',\n",
       " 'airport_dep_name',\n",
       " 'airport_code_dep',\n",
       " 'airport_dep_combination',\n",
       " 'airport_dep_group',\n",
       " 'airport_arr_name',\n",
       " 'airport_code_arr',\n",
       " 'airport_arr_combination',\n",
       " 'airport_arr_group']"
      ]
     },
     "execution_count": 22,
     "metadata": {},
     "output_type": "execute_result"
    }
   ],
   "source": [
    "max_df.columns"
   ]
  },
  {
   "cell_type": "code",
   "execution_count": 16,
   "metadata": {},
   "outputs": [
    {
     "data": {
      "text/plain": [
       "36"
      ]
     },
     "execution_count": 16,
     "metadata": {},
     "output_type": "execute_result"
    }
   ],
   "source": [
    "len(max_df.columns)"
   ]
  },
  {
   "cell_type": "code",
   "execution_count": 26,
   "metadata": {},
   "outputs": [
    {
     "name": "stdout",
     "output_type": "stream",
     "text": [
      "+--------+-------+--------+--------+-----------+--------+--------+--------+--------+--------------+--------+--------+--------+-----------+-----------+--------------------+---------+--------+-----------+---------------+---------------+--------------------+--------------+------------------+-------------+----------------------+-------------------------+-------------------+---------------------+---------------------+----------------+----------------+-----------------------+-----------------+----------------+----------------+-----------------------+-----------------+\n",
      "|      id|idusers|idsearch| airline|tipo_de_voo|  origin|    dest|dep_date|arr_date|days_travelled|  adults|  childs| infants|dep_country|arr_country|international_flight|direction|   class|search_date|wanted_dep_date|wanted_arr_date|search_received_date|seconds_search|seconds_to_results|quant_flights|quant_flights_received|quant_best_price_airlines|quant_best_price_mm|cheapest_mm_price_dep|cheapest_mm_price_arr|airport_dep_name|airport_code_dep|airport_dep_combination|airport_dep_group|airport_arr_name|airport_code_arr|airport_arr_combination|airport_arr_group|\n",
      "+--------+-------+--------+--------+-----------+--------+--------+--------+--------+--------------+--------+--------+--------+-----------+-----------+--------------------+---------+--------+-----------+---------------+---------------+--------------------+--------------+------------------+-------------+----------------------+-------------------------+-------------------+---------------------+---------------------+----------------+----------------+-----------------------+-----------------+----------------+----------------+-----------------------+-----------------+\n",
      "|12434455|1475938|12434455|12434455|   12434455|12434455|12434455|12434455| 6624389|      12434455|12434455|12434455|12434455|   12433074|   12430679|            12434455| 12434455|12434455|   12434455|         726385|        1000502|            12260272|       1177533|           1177533|      1206992|              12391751|                  1177533|            1177533|             12434455|              1177533|        12433539|         9692560|               12433357|          3793460|        12432996|         9118518|               12432000|          4112230|\n",
      "+--------+-------+--------+--------+-----------+--------+--------+--------+--------+--------------+--------+--------+--------+-----------+-----------+--------------------+---------+--------+-----------+---------------+---------------+--------------------+--------------+------------------+-------------+----------------------+-------------------------+-------------------+---------------------+---------------------+----------------+----------------+-----------------------+-----------------+----------------+----------------+-----------------------+-----------------+\n",
      "\n"
     ]
    }
   ],
   "source": [
    "from pyspark.sql.functions import col, count, isnan, lit, sum\n",
    "\n",
    "def count_not_null(c, nan_as_null=False):\n",
    "    \"\"\"Use conversion between boolean and integer\n",
    "    - False -> 0\n",
    "    - True ->  1\n",
    "    \"\"\"\n",
    "    pred = col(c).isNotNull() & (~isnan(c) if nan_as_null else lit(True))\n",
    "    return sum(pred.cast(\"integer\")).alias(c)\n",
    "\n",
    "max_df.agg(*[count_not_null(c) for c in max_df.columns]).show()"
   ]
  },
  {
   "cell_type": "markdown",
   "metadata": {},
   "source": [
    "A funcao acima calcula a quantidade de elementos nao-nulos em cada uma das colunas do nosso dataset, estamos verificando se o nossso _dataset_ nao possui problemas mais graves de _data quality_ que poderiam afetar o desempenho dos nossos algoritmos. \n",
    "\n",
    "A primeiro coisa a se notar, é o baixo número de buscas em que os usuários sao identificados (pouco mais que 10% do total), isso pode indicar que a grande maioria dos usuários nao se logam para realizar buscas. Isso poderia vir a ser uma _feature_ com duas classes (__BUSCA LOGADA e NAO LOGADA__). Temos também pouco mais da metade de registros nao nulos, para o campo __arr_date__ e __wanted_dep_date__"
   ]
  },
  {
   "cell_type": "markdown",
   "metadata": {},
   "source": [
    "Partindo do princípio que cada linha do nosso dataset é uma busca diferente, vamos investigar quantas consultas únicas foram realizadas no período entre janeiro e marco de 2017"
   ]
  },
  {
   "cell_type": "code",
   "execution_count": 10,
   "metadata": {},
   "outputs": [
    {
     "name": "stdout",
     "output_type": "stream",
     "text": [
      "+-------+--------------------+\n",
      "|summary|            idsearch|\n",
      "+-------+--------------------+\n",
      "|  count|             4006380|\n",
      "|   mean|2.0093743510875404E7|\n",
      "| stddev|  1251788.7024110905|\n",
      "|    min|            15123794|\n",
      "|    max|            22938192|\n",
      "+-------+--------------------+\n",
      "\n"
     ]
    }
   ],
   "source": [
    "max_df.select('idsearch').distinct().describe().show()"
   ]
  },
  {
   "cell_type": "code",
   "execution_count": 11,
   "metadata": {},
   "outputs": [
    {
     "name": "stdout",
     "output_type": "stream",
     "text": [
      "+-------+-------------------+--------------------+\n",
      "|summary|           idsearch|international_flight|\n",
      "+-------+-------------------+--------------------+\n",
      "|  count|           12434455|            12434455|\n",
      "|   mean|2.012847695914039E7|                null|\n",
      "| stddev| 1250891.8582730035|                null|\n",
      "|    min|           15123794|                 NÃO|\n",
      "|    max|           22938192|                 SIM|\n",
      "+-------+-------------------+--------------------+\n",
      "\n"
     ]
    }
   ],
   "source": [
    "max_df.select('idsearch', 'international_flight').describe().show()"
   ]
  },
  {
   "cell_type": "markdown",
   "metadata": {},
   "source": [
    "Isso parece indicar que apesar de termos mais de **12 milhoes de registros**, em termos de buscas únicas (idsearch) elas nao passam muito mais do que **4 milhoes de registros**. Mas ao que parece indicar, na pequena exibicao logo abaixo, é que uma mesma busca de passagem pode ser realizada para um ou mais companhias aéreas, o que faz bastante sentido para um buscador universal de precos de passagens."
   ]
  },
  {
   "cell_type": "code",
   "execution_count": 36,
   "metadata": {},
   "outputs": [
    {
     "name": "stdout",
     "output_type": "stream",
     "text": [
      "+--------+-------+-----------+--------------------+-------------------------+-------------------+\n",
      "|idsearch|airline|tipo_de_voo|international_flight|quant_best_price_airlines|quant_best_price_mm|\n",
      "+--------+-------+-----------+--------------------+-------------------------+-------------------+\n",
      "|17905536|   AZUL|  Ida/Volta|                 NÃO|                      0.0|                0.0|\n",
      "|17905536|    GOL|  Ida/Volta|                 NÃO|                      0.0|                0.0|\n",
      "|17905536|    TAM|  Ida/Volta|                 NÃO|                      0.0|                0.0|\n",
      "|17905537|   AZUL|        Ida|                 NÃO|                      0.0|                0.0|\n",
      "|17905538|    TAM|        Ida|                 NÃO|                      0.0|                0.0|\n",
      "|17905538|   AZUL|        Ida|                 NÃO|                      0.0|                0.0|\n",
      "|17905539|    TAM|  Ida/Volta|                 NÃO|                      0.0|                0.0|\n",
      "|17905538|    GOL|        Ida|                 NÃO|                      0.0|                0.0|\n",
      "|17905539|   AZUL|  Ida/Volta|                 NÃO|                      0.0|                0.0|\n",
      "|17905539|    GOL|  Ida/Volta|                 NÃO|                      0.0|                0.0|\n",
      "|17905540|    GOL|  Ida/Volta|                 NÃO|                      0.0|                0.0|\n",
      "|17905540|    TAM|  Ida/Volta|                 NÃO|                      0.0|                0.0|\n",
      "|17905541|    GOL|        Ida|                 NÃO|                      0.0|                0.0|\n",
      "|17905541|    TAM|        Ida|                 NÃO|                      0.0|                0.0|\n",
      "|17905542|    TAM|  Ida/Volta|                 NÃO|                      0.0|                0.0|\n",
      "|17905542|   AZUL|  Ida/Volta|                 NÃO|                      0.0|                0.0|\n",
      "|17905542|AVIANCA|  Ida/Volta|                 NÃO|                      0.0|                0.0|\n",
      "|17905542|    GOL|  Ida/Volta|                 NÃO|                      0.0|                0.0|\n",
      "|17905543|AVIANCA|  Ida/Volta|                 NÃO|                      0.0|                0.0|\n",
      "|17905543|    TAM|  Ida/Volta|                 NÃO|                      0.0|                0.0|\n",
      "+--------+-------+-----------+--------------------+-------------------------+-------------------+\n",
      "only showing top 20 rows\n",
      "\n"
     ]
    }
   ],
   "source": [
    "max_df.select('idsearch', 'airline', \n",
    "              'tipo_de_voo','international_flight', \n",
    "              'quant_best_price_airlines', 'quant_best_price_mm').show()"
   ]
  },
  {
   "cell_type": "code",
   "execution_count": 29,
   "metadata": {},
   "outputs": [
    {
     "data": {
      "text/plain": [
       "373185"
      ]
     },
     "execution_count": 29,
     "metadata": {},
     "output_type": "execute_result"
    }
   ],
   "source": [
    "max_df.sample(False, 0.03, 50).count()"
   ]
  },
  {
   "cell_type": "code",
   "execution_count": 30,
   "metadata": {},
   "outputs": [
    {
     "data": {
      "text/plain": [
       "[('id', 'string'),\n",
       " ('idusers', 'float'),\n",
       " ('idsearch', 'string'),\n",
       " ('airline', 'string'),\n",
       " ('tipo_de_voo', 'string'),\n",
       " ('origin', 'string'),\n",
       " ('dest', 'string'),\n",
       " ('dep_date', 'date'),\n",
       " ('arr_date', 'date'),\n",
       " ('days_travelled', 'int'),\n",
       " ('adults', 'int'),\n",
       " ('childs', 'int'),\n",
       " ('infants', 'int'),\n",
       " ('dep_country', 'string'),\n",
       " ('arr_country', 'string'),\n",
       " ('international_flight', 'string'),\n",
       " ('direction', 'string'),\n",
       " ('class', 'string'),\n",
       " ('search_date', 'date'),\n",
       " ('wanted_dep_date', 'date'),\n",
       " ('wanted_arr_date', 'date'),\n",
       " ('search_received_date', 'date'),\n",
       " ('seconds_search', 'int'),\n",
       " ('seconds_to_results', 'int'),\n",
       " ('quant_flights', 'int'),\n",
       " ('quant_flights_received', 'int'),\n",
       " ('quant_best_price_airlines', 'float'),\n",
       " ('quant_best_price_mm', 'float'),\n",
       " ('cheapest_mm_price_dep', 'string'),\n",
       " ('cheapest_mm_price_arr', 'string'),\n",
       " ('airport_dep_name', 'string'),\n",
       " ('airport_code_dep', 'string'),\n",
       " ('airport_dep_combination', 'string'),\n",
       " ('airport_dep_group', 'string'),\n",
       " ('airport_arr_name', 'string'),\n",
       " ('airport_code_arr', 'string'),\n",
       " ('airport_arr_combination', 'string'),\n",
       " ('airport_arr_group', 'string')]"
      ]
     },
     "execution_count": 30,
     "metadata": {},
     "output_type": "execute_result"
    }
   ],
   "source": [
    "max_df.dtypes"
   ]
  },
  {
   "cell_type": "code",
   "execution_count": 75,
   "metadata": {},
   "outputs": [
    {
     "data": {
      "image/png": "[encoded data removed]",
      "text/plain": [
       "<matplotlib.figure.Figure at 0x7f12a8082f28>"
      ]
     },
     "metadata": {},
     "output_type": "display_data"
    }
   ],
   "source": [
    "import numpy as np\n",
    "import pandas as pd\n",
    "import seaborn as sns\n",
    "import matplotlib.pyplot as plt\n",
    "\n",
    "columns_to_select = ['seconds_search', \n",
    "                     'seconds_to_results', \n",
    "                     'days_travelled',\n",
    "                     'quant_flights_received',\n",
    "                     'adults',\n",
    "                     'childs'\n",
    "                    ]\n",
    "\n",
    "# Sample the dataframe\n",
    "sample_max_df = max_df.select(columns_to_select).sample(False, 0.03, 50)\n",
    "\n",
    "# Convert the sample to a Pandas Dataframe\n",
    "pandas_df = sample_max_df.toPandas()\n",
    "pandas_df = pandas_df.dropna()\n",
    "\n",
    "sns.distplot(pandas_df['seconds_search'])\n",
    "\n",
    "plt.show()"
   ]
  },
  {
   "cell_type": "markdown",
   "metadata": {},
   "source": [
    "Parece que encontramos um padrao interessante aqui. O tempo de busca parece se comportar como uma **normal, centrada em 0**. O que é um característica que pode acabar favorecendo alguns algoritmos de aprendizado de máquina. Mas o que me deixa mais intrigado, é: como uma busca pode possuir valores de tempo menores que 0 ? Seria isso possível, ou existe algum erro na coleta desse dado ?"
   ]
  },
  {
   "cell_type": "code",
   "execution_count": 76,
   "metadata": {},
   "outputs": [
    {
     "data": {
      "image/png": "[encoded data removed]",
      "text/plain": [
       "<matplotlib.figure.Figure at 0x7f127b3b2a58>"
      ]
     },
     "metadata": {},
     "output_type": "display_data"
    }
   ],
   "source": [
    "sns.set(style=\"white\")\n",
    "\n",
    "sns.distplot(pandas_df['seconds_to_results'])\n",
    "\n",
    "plt.show()"
   ]
  },
  {
   "cell_type": "code",
   "execution_count": 77,
   "metadata": {},
   "outputs": [
    {
     "data": {
      "image/png": "[encoded data removed]",
      "text/plain": [
       "<matplotlib.figure.Figure at 0x7f127728c780>"
      ]
     },
     "metadata": {},
     "output_type": "display_data"
    }
   ],
   "source": [
    "sns.lmplot(x='quant_flights_received', y='seconds_to_results', data=pandas_df)\n",
    "plt.show()"
   ]
  },
  {
   "cell_type": "code",
   "execution_count": 78,
   "metadata": {},
   "outputs": [
    {
     "data": {
      "image/png": "[encoded data removed]",
      "text/plain": [
       "<matplotlib.figure.Figure at 0x7f127698e1d0>"
      ]
     },
     "metadata": {},
     "output_type": "display_data"
    }
   ],
   "source": [
    "sns.lmplot(x='days_travelled', y='seconds_search', data=pandas_df)\n",
    "plt.show()"
   ]
  },
  {
   "cell_type": "markdown",
   "metadata": {},
   "source": [
    "O tempo de busca, nao parece ser influenciado de maneira direta pela quantidade de dias em que a viagem irá durar, nem pela quantidade de voos recebidos pela busca. O melhor seria que fizessemos um mapa de correlacao das variáveis com a variável de interesse (__seconds_search__)."
   ]
  },
  {
   "cell_type": "code",
   "execution_count": 82,
   "metadata": {},
   "outputs": [
    {
     "data": {
      "image/png": "[encoded data removed]",
      "text/plain": [
       "<matplotlib.figure.Figure at 0x7f127b3922e8>"
      ]
     },
     "metadata": {},
     "output_type": "display_data"
    }
   ],
   "source": [
    "# Compute the correlation matrix\n",
    "corr = pandas_df.corr()\n",
    "\n",
    "# Generate a mask for the upper triangle\n",
    "mask = np.zeros_like(corr, dtype=np.bool)\n",
    "mask[np.triu_indices_from(mask)] = True\n",
    "\n",
    "# Set up the matplotlib figure\n",
    "f, ax = plt.subplots(figsize=(11, 9))\n",
    "\n",
    "# Generate a custom diverging colormap\n",
    "cmap = sns.diverging_palette(220, 10, as_cmap=True)\n",
    "\n",
    "# Draw the heatmap with the mask and correct aspect ratio\n",
    "#sns.heatmap(corr, mask=mask, cmap=cmap, vmax=.3, center=0,\n",
    "#            square=True, linewidths=.5, cbar_kws={\"shrink\": .5})\n",
    "\n",
    "sns.heatmap(corr)\n",
    "plt.show()"
   ]
  },
  {
   "cell_type": "code",
   "execution_count": 83,
   "metadata": {},
   "outputs": [
    {
     "name": "stdout",
     "output_type": "stream",
     "text": [
      "<class 'pandas.core.frame.DataFrame'>\n",
      "Int64Index: 35237 entries, 0 to 373184\n",
      "Data columns (total 6 columns):\n",
      "seconds_search            35237 non-null float64\n",
      "seconds_to_results        35237 non-null float64\n",
      "days_travelled            35237 non-null int32\n",
      "quant_flights_received    35237 non-null float64\n",
      "adults                    35237 non-null int32\n",
      "childs                    35237 non-null int32\n",
      "dtypes: float64(3), int32(3)\n",
      "memory usage: 1.5 MB\n"
     ]
    }
   ],
   "source": [
    "pandas_df.info()"
   ]
  },
  {
   "cell_type": "code",
   "execution_count": 72,
   "metadata": {},
   "outputs": [
    {
     "data": {
      "text/html": [
       "<div>\n",
       "<style scoped>\n",
       "    .dataframe tbody tr th:only-of-type {\n",
       "        vertical-align: middle;\n",
       "    }\n",
       "\n",
       "    .dataframe tbody tr th {\n",
       "        vertical-align: top;\n",
       "    }\n",
       "\n",
       "    .dataframe thead th {\n",
       "        text-align: right;\n",
       "    }\n",
       "</style>\n",
       "<table border=\"1\" class=\"dataframe\">\n",
       "  <thead>\n",
       "    <tr style=\"text-align: right;\">\n",
       "      <th></th>\n",
       "      <th>seconds_search</th>\n",
       "      <th>seconds_to_results</th>\n",
       "      <th>days_travelled</th>\n",
       "      <th>quant_flights_received</th>\n",
       "      <th>adults</th>\n",
       "      <th>childs</th>\n",
       "    </tr>\n",
       "  </thead>\n",
       "  <tbody>\n",
       "    <tr>\n",
       "      <th>4330</th>\n",
       "      <td>-1.667818e+06</td>\n",
       "      <td>2.0</td>\n",
       "      <td>35</td>\n",
       "      <td>1.0</td>\n",
       "      <td>1</td>\n",
       "      <td>0</td>\n",
       "    </tr>\n",
       "    <tr>\n",
       "      <th>4451</th>\n",
       "      <td>-2.147484e+09</td>\n",
       "      <td>0.0</td>\n",
       "      <td>2</td>\n",
       "      <td>0.0</td>\n",
       "      <td>2</td>\n",
       "      <td>0</td>\n",
       "    </tr>\n",
       "    <tr>\n",
       "      <th>4511</th>\n",
       "      <td>-2.147484e+09</td>\n",
       "      <td>0.0</td>\n",
       "      <td>3</td>\n",
       "      <td>0.0</td>\n",
       "      <td>1</td>\n",
       "      <td>0</td>\n",
       "    </tr>\n",
       "    <tr>\n",
       "      <th>4523</th>\n",
       "      <td>-2.147484e+09</td>\n",
       "      <td>0.0</td>\n",
       "      <td>3</td>\n",
       "      <td>0.0</td>\n",
       "      <td>1</td>\n",
       "      <td>0</td>\n",
       "    </tr>\n",
       "    <tr>\n",
       "      <th>4665</th>\n",
       "      <td>-2.147484e+09</td>\n",
       "      <td>0.0</td>\n",
       "      <td>11</td>\n",
       "      <td>0.0</td>\n",
       "      <td>2</td>\n",
       "      <td>0</td>\n",
       "    </tr>\n",
       "  </tbody>\n",
       "</table>\n",
       "</div>"
      ],
      "text/plain": [
       "      seconds_search  seconds_to_results  days_travelled  \\\n",
       "4330   -1.667818e+06                 2.0              35   \n",
       "4451   -2.147484e+09                 0.0               2   \n",
       "4511   -2.147484e+09                 0.0               3   \n",
       "4523   -2.147484e+09                 0.0               3   \n",
       "4665   -2.147484e+09                 0.0              11   \n",
       "\n",
       "      quant_flights_received  adults  childs  \n",
       "4330                     1.0       1       0  \n",
       "4451                     0.0       2       0  \n",
       "4511                     0.0       1       0  \n",
       "4523                     0.0       1       0  \n",
       "4665                     0.0       2       0  "
      ]
     },
     "execution_count": 72,
     "metadata": {},
     "output_type": "execute_result"
    }
   ],
   "source": [
    "pandas_df[pandas_df.seconds_search < 0].head()"
   ]
  },
  {
   "cell_type": "markdown",
   "metadata": {},
   "source": [
    "Curioso, que os valores que corresponde aos maiores valores"
   ]
  }
 ],
 "metadata": {
  "kernelspec": {
   "display_name": "Python 3",
   "language": "python",
   "name": "python3"
  },
  "language_info": {
   "codemirror_mode": {
    "name": "ipython",
    "version": 3
   },
   "file_extension": ".py",
   "mimetype": "text/x-python",
   "name": "python",
   "nbconvert_exporter": "python",
   "pygments_lexer": "ipython3",
   "version": "3.6.2"
  }
 },
 "nbformat": 4,
 "nbformat_minor": 2
}
